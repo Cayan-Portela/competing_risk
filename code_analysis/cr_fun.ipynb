{
 "cells": [
  {
   "cell_type": "code",
   "execution_count": 1,
   "metadata": {},
   "outputs": [],
   "source": [
    "import pandas as pd\n",
    "import numpy as np"
   ]
  },
  {
   "cell_type": "code",
   "execution_count": 21,
   "metadata": {},
   "outputs": [],
   "source": [
    "from sklearn.base import BaseEstimator\n",
    "from sklearn.utils.extmath import squared_norm"
   ]
  },
  {
   "cell_type": "code",
   "execution_count": 2,
   "metadata": {},
   "outputs": [],
   "source": [
    "from IPython.core.interactiveshell import InteractiveShell\n",
    "InteractiveShell.ast_node_interactivity = \"all\"\n",
    "\n",
    "pd.set_option('display.max_columns', 200)\n",
    "pd.set_option('display.max_rows', 200)"
   ]
  },
  {
   "cell_type": "code",
   "execution_count": 5,
   "metadata": {},
   "outputs": [
    {
     "data": {
      "text/html": [
       "<style type=\"text/css\">\n",
       "#T_b5977_row0_col0, #T_b5977_row0_col1, #T_b5977_row0_col2, #T_b5977_row0_col3, #T_b5977_row0_col4, #T_b5977_row0_col5, #T_b5977_row0_col6, #T_b5977_row0_col7, #T_b5977_row0_col8, #T_b5977_row0_col9, #T_b5977_row0_col10, #T_b5977_row0_col11, #T_b5977_row0_col12, #T_b5977_row0_col13, #T_b5977_row1_col0, #T_b5977_row1_col1, #T_b5977_row1_col2, #T_b5977_row1_col3, #T_b5977_row1_col4, #T_b5977_row1_col5, #T_b5977_row1_col6, #T_b5977_row1_col7, #T_b5977_row1_col8, #T_b5977_row1_col9, #T_b5977_row1_col10, #T_b5977_row1_col11, #T_b5977_row1_col12, #T_b5977_row1_col13, #T_b5977_row2_col0, #T_b5977_row2_col1, #T_b5977_row2_col2, #T_b5977_row2_col3, #T_b5977_row2_col4, #T_b5977_row2_col5, #T_b5977_row2_col6, #T_b5977_row2_col7, #T_b5977_row2_col8, #T_b5977_row2_col9, #T_b5977_row2_col10, #T_b5977_row2_col11, #T_b5977_row2_col12, #T_b5977_row2_col13, #T_b5977_row3_col0, #T_b5977_row3_col1, #T_b5977_row3_col2, #T_b5977_row3_col3, #T_b5977_row3_col4, #T_b5977_row3_col5, #T_b5977_row3_col6, #T_b5977_row3_col7, #T_b5977_row3_col8, #T_b5977_row3_col9, #T_b5977_row3_col10, #T_b5977_row3_col11, #T_b5977_row3_col12, #T_b5977_row3_col13, #T_b5977_row4_col0, #T_b5977_row4_col1, #T_b5977_row4_col2, #T_b5977_row4_col3, #T_b5977_row4_col4, #T_b5977_row4_col5, #T_b5977_row4_col6, #T_b5977_row4_col7, #T_b5977_row4_col8, #T_b5977_row4_col9, #T_b5977_row4_col10, #T_b5977_row4_col11, #T_b5977_row4_col12, #T_b5977_row4_col13 {\n",
       "  white-space: nowrap;\n",
       "}\n",
       "</style>\n",
       "<table id=\"T_b5977\">\n",
       "  <thead>\n",
       "    <tr>\n",
       "      <th class=\"blank level0\" >&nbsp;</th>\n",
       "      <th id=\"T_b5977_level0_col0\" class=\"col_heading level0 col0\" >loan_amnt</th>\n",
       "      <th id=\"T_b5977_level0_col1\" class=\"col_heading level0 col1\" >int_rate</th>\n",
       "      <th id=\"T_b5977_level0_col2\" class=\"col_heading level0 col2\" >installment</th>\n",
       "      <th id=\"T_b5977_level0_col3\" class=\"col_heading level0 col3\" >emp_length</th>\n",
       "      <th id=\"T_b5977_level0_col4\" class=\"col_heading level0 col4\" >home_ownership</th>\n",
       "      <th id=\"T_b5977_level0_col5\" class=\"col_heading level0 col5\" >verification_status</th>\n",
       "      <th id=\"T_b5977_level0_col6\" class=\"col_heading level0 col6\" >dti</th>\n",
       "      <th id=\"T_b5977_level0_col7\" class=\"col_heading level0 col7\" >total_acc</th>\n",
       "      <th id=\"T_b5977_level0_col8\" class=\"col_heading level0 col8\" >earl_cr_line_t</th>\n",
       "      <th id=\"T_b5977_level0_col9\" class=\"col_heading level0 col9\" >loan_inc_pct</th>\n",
       "      <th id=\"T_b5977_level0_col10\" class=\"col_heading level0 col10\" >log_income</th>\n",
       "      <th id=\"T_b5977_level0_col11\" class=\"col_heading level0 col11\" >tempo_mes</th>\n",
       "      <th id=\"T_b5977_level0_col12\" class=\"col_heading level0 col12\" >status</th>\n",
       "      <th id=\"T_b5977_level0_col13\" class=\"col_heading level0 col13\" >status_repayment</th>\n",
       "    </tr>\n",
       "  </thead>\n",
       "  <tbody>\n",
       "    <tr>\n",
       "      <th id=\"T_b5977_level0_row0\" class=\"row_heading level0 row0\" >0</th>\n",
       "      <td id=\"T_b5977_row0_col0\" class=\"data row0 col0\" >16625</td>\n",
       "      <td id=\"T_b5977_row0_col1\" class=\"data row0 col1\" >17.270000</td>\n",
       "      <td id=\"T_b5977_row0_col2\" class=\"data row0 col2\" >415.600000</td>\n",
       "      <td id=\"T_b5977_row0_col3\" class=\"data row0 col3\" >5.000000</td>\n",
       "      <td id=\"T_b5977_row0_col4\" class=\"data row0 col4\" >MORTGAGE</td>\n",
       "      <td id=\"T_b5977_row0_col5\" class=\"data row0 col5\" >Verified</td>\n",
       "      <td id=\"T_b5977_row0_col6\" class=\"data row0 col6\" >18.090000</td>\n",
       "      <td id=\"T_b5977_row0_col7\" class=\"data row0 col7\" >22.000000</td>\n",
       "      <td id=\"T_b5977_row0_col8\" class=\"data row0 col8\" >-296 days +18:24:00</td>\n",
       "      <td id=\"T_b5977_row0_col9\" class=\"data row0 col9\" >0.415729</td>\n",
       "      <td id=\"T_b5977_row0_col10\" class=\"data row0 col10\" >10.596385</td>\n",
       "      <td id=\"T_b5977_row0_col11\" class=\"data row0 col11\" >38.000000</td>\n",
       "      <td id=\"T_b5977_row0_col12\" class=\"data row0 col12\" >1</td>\n",
       "      <td id=\"T_b5977_row0_col13\" class=\"data row0 col13\" >0</td>\n",
       "    </tr>\n",
       "    <tr>\n",
       "      <th id=\"T_b5977_level0_row1\" class=\"row_heading level0 row1\" >1</th>\n",
       "      <td id=\"T_b5977_row1_col0\" class=\"data row1 col0\" >35000</td>\n",
       "      <td id=\"T_b5977_row1_col1\" class=\"data row1 col1\" >19.720000</td>\n",
       "      <td id=\"T_b5977_row1_col2\" class=\"data row1 col2\" >921.850000</td>\n",
       "      <td id=\"T_b5977_row1_col3\" class=\"data row1 col3\" >10.000000</td>\n",
       "      <td id=\"T_b5977_row1_col4\" class=\"data row1 col4\" >MORTGAGE</td>\n",
       "      <td id=\"T_b5977_row1_col5\" class=\"data row1 col5\" >Verified</td>\n",
       "      <td id=\"T_b5977_row1_col6\" class=\"data row1 col6\" >12.040000</td>\n",
       "      <td id=\"T_b5977_row1_col7\" class=\"data row1 col7\" >55.000000</td>\n",
       "      <td id=\"T_b5977_row1_col8\" class=\"data row1 col8\" >-344 days +01:36:00</td>\n",
       "      <td id=\"T_b5977_row1_col9\" class=\"data row1 col9\" >0.364583</td>\n",
       "      <td id=\"T_b5977_row1_col10\" class=\"data row1 col10\" >11.472103</td>\n",
       "      <td id=\"T_b5977_row1_col11\" class=\"data row1 col11\" >9.000000</td>\n",
       "      <td id=\"T_b5977_row1_col12\" class=\"data row1 col12\" >0</td>\n",
       "      <td id=\"T_b5977_row1_col13\" class=\"data row1 col13\" >1</td>\n",
       "    </tr>\n",
       "    <tr>\n",
       "      <th id=\"T_b5977_level0_row2\" class=\"row_heading level0 row2\" >2</th>\n",
       "      <td id=\"T_b5977_row2_col0\" class=\"data row2 col0\" >32000</td>\n",
       "      <td id=\"T_b5977_row2_col1\" class=\"data row2 col1\" >17.770000</td>\n",
       "      <td id=\"T_b5977_row2_col2\" class=\"data row2 col2\" >808.600000</td>\n",
       "      <td id=\"T_b5977_row2_col3\" class=\"data row2 col3\" >10.000000</td>\n",
       "      <td id=\"T_b5977_row2_col4\" class=\"data row2 col4\" >MORTGAGE</td>\n",
       "      <td id=\"T_b5977_row2_col5\" class=\"data row2 col5\" >Verified</td>\n",
       "      <td id=\"T_b5977_row2_col6\" class=\"data row2 col6\" >9.500000</td>\n",
       "      <td id=\"T_b5977_row2_col7\" class=\"data row2 col7\" >34.000000</td>\n",
       "      <td id=\"T_b5977_row2_col8\" class=\"data row2 col8\" >-206 days +00:48:00</td>\n",
       "      <td id=\"T_b5977_row2_col9\" class=\"data row2 col9\" >0.320000</td>\n",
       "      <td id=\"T_b5977_row2_col10\" class=\"data row2 col10\" >11.512925</td>\n",
       "      <td id=\"T_b5977_row2_col11\" class=\"data row2 col11\" >14.000000</td>\n",
       "      <td id=\"T_b5977_row2_col12\" class=\"data row2 col12\" >0</td>\n",
       "      <td id=\"T_b5977_row2_col13\" class=\"data row2 col13\" >1</td>\n",
       "    </tr>\n",
       "    <tr>\n",
       "      <th id=\"T_b5977_level0_row3\" class=\"row_heading level0 row3\" >3</th>\n",
       "      <td id=\"T_b5977_row3_col0\" class=\"data row3 col0\" >16100</td>\n",
       "      <td id=\"T_b5977_row3_col1\" class=\"data row3 col1\" >15.310000</td>\n",
       "      <td id=\"T_b5977_row3_col2\" class=\"data row3 col2\" >385.650000</td>\n",
       "      <td id=\"T_b5977_row3_col3\" class=\"data row3 col3\" >6.000000</td>\n",
       "      <td id=\"T_b5977_row3_col4\" class=\"data row3 col4\" >RENT</td>\n",
       "      <td id=\"T_b5977_row3_col5\" class=\"data row3 col5\" >Source Verified</td>\n",
       "      <td id=\"T_b5977_row3_col6\" class=\"data row3 col6\" >10.800000</td>\n",
       "      <td id=\"T_b5977_row3_col7\" class=\"data row3 col7\" >18.000000</td>\n",
       "      <td id=\"T_b5977_row3_col8\" class=\"data row3 col8\" >-151 days +20:00:00</td>\n",
       "      <td id=\"T_b5977_row3_col9\" class=\"data row3 col9\" >0.335417</td>\n",
       "      <td id=\"T_b5977_row3_col10\" class=\"data row3 col10\" >10.778956</td>\n",
       "      <td id=\"T_b5977_row3_col11\" class=\"data row3 col11\" >29.000000</td>\n",
       "      <td id=\"T_b5977_row3_col12\" class=\"data row3 col12\" >0</td>\n",
       "      <td id=\"T_b5977_row3_col13\" class=\"data row3 col13\" >1</td>\n",
       "    </tr>\n",
       "    <tr>\n",
       "      <th id=\"T_b5977_level0_row4\" class=\"row_heading level0 row4\" >4</th>\n",
       "      <td id=\"T_b5977_row4_col0\" class=\"data row4 col0\" >20000</td>\n",
       "      <td id=\"T_b5977_row4_col1\" class=\"data row4 col1\" >23.630000</td>\n",
       "      <td id=\"T_b5977_row4_col2\" class=\"data row4 col2\" >571.080000</td>\n",
       "      <td id=\"T_b5977_row4_col3\" class=\"data row4 col3\" >8.000000</td>\n",
       "      <td id=\"T_b5977_row4_col4\" class=\"data row4 col4\" >RENT</td>\n",
       "      <td id=\"T_b5977_row4_col5\" class=\"data row4 col5\" >Verified</td>\n",
       "      <td id=\"T_b5977_row4_col6\" class=\"data row4 col6\" >24.790000</td>\n",
       "      <td id=\"T_b5977_row4_col7\" class=\"data row4 col7\" >26.000000</td>\n",
       "      <td id=\"T_b5977_row4_col8\" class=\"data row4 col8\" >-322 days +08:00:00</td>\n",
       "      <td id=\"T_b5977_row4_col9\" class=\"data row4 col9\" >0.357143</td>\n",
       "      <td id=\"T_b5977_row4_col10\" class=\"data row4 col10\" >10.933107</td>\n",
       "      <td id=\"T_b5977_row4_col11\" class=\"data row4 col11\" >16.000000</td>\n",
       "      <td id=\"T_b5977_row4_col12\" class=\"data row4 col12\" >0</td>\n",
       "      <td id=\"T_b5977_row4_col13\" class=\"data row4 col13\" >1</td>\n",
       "    </tr>\n",
       "  </tbody>\n",
       "</table>\n"
      ],
      "text/plain": [
       "<pandas.io.formats.style.Styler at 0x7fdc340ebd00>"
      ]
     },
     "execution_count": 5,
     "metadata": {},
     "output_type": "execute_result"
    }
   ],
   "source": [
    "df_mod = pd.read_csv('dados/df_60_mod_cr.csv')\n",
    "df_mod.head().style.applymap(lambda x: 'white-space:nowrap')"
   ]
  },
  {
   "attachments": {},
   "cell_type": "markdown",
   "metadata": {},
   "source": [
    "Testando com uma amostra dos dados"
   ]
  },
  {
   "cell_type": "code",
   "execution_count": 6,
   "metadata": {},
   "outputs": [],
   "source": [
    "def get_train_data(df_mod, n_sample):\n",
    "    \n",
    "    df_mod = df_mod.sample(n=n_sample, random_state=1234)\n",
    "\n",
    "    X = df_mod.loc[:,['loan_amnt', 'int_rate', 'installment']]\n",
    "    y = df_mod.loc[:, ['tempo_mes', 'status', 'status_repayment']]\n",
    "\n",
    "    return X, y"
   ]
  },
  {
   "cell_type": "code",
   "execution_count": 7,
   "metadata": {},
   "outputs": [],
   "source": [
    "X_mod, y_mod = get_train_data(df_mod, n_sample=20)"
   ]
  },
  {
   "attachments": {},
   "cell_type": "markdown",
   "metadata": {},
   "source": [
    "Preparando o que vamos precisar para o loop no gradient"
   ]
  },
  {
   "cell_type": "code",
   "execution_count": 8,
   "metadata": {},
   "outputs": [],
   "source": [
    "def prepare_y(y_mod):\n",
    "\n",
    "    y1 = y_mod[['status', 'status_repayment', 'tempo_mes']].to_numpy()\n",
    "    # array: list to tuple\n",
    "    aux = [(e1, e2, e3) for e1, e2, e3 in y1]\n",
    "\n",
    "    new_y = np.array(aux, dtype=[('evento_0', '?'), ('evento_1', '?'), ('tempo', '<f8')])\n",
    "\n",
    "    return new_y"
   ]
  },
  {
   "cell_type": "code",
   "execution_count": 9,
   "metadata": {},
   "outputs": [],
   "source": [
    "new_y = prepare_y(y_mod)"
   ]
  },
  {
   "cell_type": "code",
   "execution_count": 11,
   "metadata": {},
   "outputs": [],
   "source": [
    "# cria variaveis necessarias para o loop no boosting e gradient\n",
    "# (para visualizacao)\n",
    "def vec_for_gradient(y_mod):\n",
    "\n",
    "    n_sample = y_mod.shape[0]\n",
    "\n",
    "    gradient_0 = np.zeros(n_sample)\n",
    "    gradient_1 = np.zeros(n_sample)\n",
    "\n",
    "    exp_tsj = np.zeros((n_sample))\n",
    "    y_pred = np.zeros(n_sample)\n",
    "    exp_pred = np.exp(y_pred)\n",
    "\n",
    "    return gradient_0, gradient_1, exp_tsj, y_pred, exp_pred\n",
    "\n",
    "gradient_0, gradient_1, exp_tsj, y_pred, exp_pred = vec_for_gradient(y_mod)"
   ]
  },
  {
   "attachments": {},
   "cell_type": "markdown",
   "metadata": {},
   "source": [
    "Riscos \"na mão\".\n",
    "Posteriormente, encapsular os riscos competitivos em um só loop"
   ]
  },
  {
   "cell_type": "code",
   "execution_count": 19,
   "metadata": {},
   "outputs": [],
   "source": [
    "# cada risco deve ter um exp_pred\n",
    "def negative_gradient_cox_cr(y, y_pred, sample_weight=None):\n",
    "    \"\"\"\n",
    "    Negative gradient of partial likelihood\n",
    "    \"\"\"\n",
    "\n",
    "    n_samples = y.shape[0]\n",
    "\n",
    "    gradient_0 = np.zeros(n_samples)\n",
    "    gradient_1 = np.zeros(n_samples)\n",
    "\n",
    "    exp_tsj_0 = np.zeros((n_samples))\n",
    "    exp_tsj_1 = np.zeros((n_samples))\n",
    "    \n",
    "    # cada risco deve ter um exp_pred!!!!\n",
    "    exp_pred_0 = np.exp(y_pred['gradient_0'])\n",
    "    exp_pred_1 = np.exp(y_pred['gradient_1'])\n",
    "\n",
    "    y_tempo = y['tempo']\n",
    "    y_evento_0 = y['evento_0']\n",
    "    y_evento_1 = y['evento_1']\n",
    "\n",
    "    # --------------------------------------------------------------------------\n",
    "    # risco 0 (default)\n",
    "    for i in range(n_samples):\n",
    "        for j in range(n_samples):\n",
    "            if y_tempo[j] >= y_tempo[i]:\n",
    "                exp_tsj_0[i] += exp_pred_0[j]\n",
    "\n",
    "    for i in range(n_samples):\n",
    "        s0 = 0\n",
    "        for j in range(n_samples):\n",
    "            if (y_evento_0[j] and not y_evento_1[j]) and y_tempo[i] >= y_tempo[j]:\n",
    "                #s += exp_pred[i] / exp_tsj[j]\n",
    "                s0 = s0 + exp_pred_0[i] / exp_tsj_0[j]\n",
    "        gradient_0[i] = y_evento_0[i] - s0\n",
    "    # --------------------------------------------------------------------------\n",
    "\n",
    "    # --------------------------------------------------------------------------\n",
    "    # risco 1 (repayment)\n",
    "    for i in range(n_samples):\n",
    "        for j in range(n_samples):\n",
    "            if y_tempo[j] >= y_tempo[i]:\n",
    "                exp_tsj_1[i] += exp_pred_1[j]\n",
    "    \n",
    "    for i in range(n_samples):\n",
    "        s1 = 0\n",
    "        for j in range(n_samples):\n",
    "            if (y_evento_1[j] and not y_evento_0[j]) and y_tempo[i] >= y_tempo[j]:\n",
    "                #s += exp_pred[i] / exp_tsj[j]\n",
    "                s1 = s1 + exp_pred_1[i] / exp_tsj_1[j]\n",
    "        gradient_1[i] = y_evento_1[i] - s1\n",
    "    # --------------------------------------------------------------------------\n",
    "\n",
    "    if sample_weight is not None:\n",
    "        gradient_0 *= sample_weight\n",
    "        gradient_1 *= sample_weight\n",
    "\n",
    "    gradient_cr = np.fromiter(\n",
    "        zip(gradient_0, gradient_1), dtype=[('gradient_0', np.float64), ('gradient_1', np.float64)]\n",
    "        )\n",
    "\n",
    "    return gradient_cr"
   ]
  },
  {
   "cell_type": "markdown",
   "metadata": {},
   "source": [
    "Agora, o passo é ajustar o _fit_stage_componentwise"
   ]
  },
  {
   "cell_type": "code",
   "execution_count": 15,
   "metadata": {},
   "outputs": [],
   "source": [
    "class ComponentwiseLeastSquares(BaseEstimator):\n",
    "\n",
    "    def __init__(self, component):\n",
    "        self.component = component\n",
    "\n",
    "    def fit(self, X, y, sample_weight):\n",
    "        \n",
    "        xw = X[:, self.component] * sample_weight\n",
    "        b = np.dot(xw, y)\n",
    "        if b == 0:\n",
    "            self.coef_ = 0\n",
    "        else:\n",
    "            a = np.dot(xw, xw)\n",
    "            self.coef_ = b / a\n",
    "\n",
    "        return self\n",
    "\n",
    "    def predict(self, X):\n",
    "        return X[:, self.component] * self.coef_"
   ]
  },
  {
   "cell_type": "code",
   "execution_count": 16,
   "metadata": {},
   "outputs": [],
   "source": [
    "def fit_stage_cwl(X, residuals, sample_weight):\n",
    "    \n",
    "    n_features = X.shape[1]\n",
    "    base_learners = []\n",
    "    error = np.empty(n_features)\n",
    "\n",
    "\n",
    "    for component in range(n_features):\n",
    "        learner = ComponentwiseLeastSquares(component).fit(X, residuals, sample_weight)\n",
    "        l_pred = learner.predict(X)\n",
    "        error[component] = squared_norm(residuals - l_pred)\n",
    "        base_learners.append(learner)\n",
    "\n",
    "\n",
    "    best_component = np.nanargmin(error)\n",
    "    best_learner = base_learners[best_component]\n",
    "    return best_learner"
   ]
  },
  {
   "attachments": {},
   "cell_type": "markdown",
   "metadata": {},
   "source": [
    "Definindo X, residuo (pseudo-y) e sample weight"
   ]
  },
  {
   "cell_type": "code",
   "execution_count": 17,
   "metadata": {},
   "outputs": [],
   "source": [
    "n_samples = new_y.shape[0]\n",
    "Xi = np.column_stack((np.ones(n_samples),  X_mod))\n",
    "sw = np.ones(n_samples, dtype=np.float32)\n",
    "# residuals sendo o gradiente do evento 0 (default)"
   ]
  },
  {
   "attachments": {},
   "cell_type": "markdown",
   "metadata": {},
   "source": [
    "Rodando o modelo para riscos competitivos"
   ]
  },
  {
   "cell_type": "code",
   "execution_count": 22,
   "metadata": {},
   "outputs": [],
   "source": [
    "n_estimators = 1000\n",
    "learning_rate = 0.1\n",
    "y_pred = np.fromiter(\n",
    "    zip(np.zeros(new_y.shape[0]), np.zeros(new_y.shape[0])),\n",
    "    dtype=[('gradient_0', np.float64), ('gradient_1', np.float64)]\n",
    ")\n",
    "\n",
    "best_learner_0 = []\n",
    "best_learner_1 = []\n",
    "\n",
    "n_risk = 2\n",
    "estimadores = [[] for _ in range(n_risk)]\n",
    "\n",
    "for i in range(int(n_estimators)):\n",
    "\n",
    "    # Revisare e confirmar se esta tudo ok\n",
    "    # \n",
    "    # devemos definir os residuals aqui, pois ele deve ser atualizado!!!!\n",
    "    # vamos precisar de um y_pred para cada risco!!!!!\n",
    "    # --------------------------------------------------------------------------\n",
    "    \n",
    "    # Passo 1: y = tempo, y_pred = 0\n",
    "    #   - obtem: vec_grad_1\n",
    "    #\n",
    "    # Passo 2: y = tempo, y_pred = residuo da regressao (vec_grad_1 ~ x_i)\n",
    "    #   - obtem: vec_grad_2\n",
    "    #\n",
    "    # Passo 3: y = tempo, y_pred = residuo da regressao (vec_grad_2 ~ x_i)\n",
    "    #   - obtem: vec_grad_3\n",
    "    # ...\n",
    "    # ...\n",
    "    # ...\n",
    "    #\n",
    "    residuals = negative_gradient_cox_cr(y=new_y, y_pred=y_pred)\n",
    "\n",
    "    # Regressao usando o que sai do gradient como y\n",
    "    best_learner_0 = fit_stage_cwl(Xi, residuals['gradient_0'], sw)\n",
    "    best_learner_1 = fit_stage_cwl(Xi, residuals['gradient_1'], sw)\n",
    "\n",
    "    estimadores[0].append(best_learner_0)\n",
    "    estimadores[1].append(best_learner_1)\n",
    "\n",
    "    y_pred['gradient_0'] = y_pred['gradient_0'] + learning_rate * best_learner_0.predict(Xi)\n",
    "    y_pred['gradient_1'] = y_pred['gradient_1'] + learning_rate * best_learner_1.predict(Xi)"
   ]
  },
  {
   "cell_type": "code",
   "execution_count": 23,
   "metadata": {},
   "outputs": [
    {
     "data": {
      "text/plain": [
       "array([2.98449749, 1.19787585, 1.40411674, 2.55163144, 1.92091803,\n",
       "       2.30462201, 2.36457576, 1.61755208, 2.32860351, 2.90176132,\n",
       "       2.79144643, 1.57198723, 2.0708024 , 1.89453838, 1.78782072,\n",
       "       2.23867289, 2.4581036 , 2.69432136, 2.36097853, 2.18831174])"
      ]
     },
     "execution_count": 23,
     "metadata": {},
     "output_type": "execute_result"
    },
    {
     "data": {
      "text/plain": [
       "array([19.77656187,  3.31307199,  4.07192858, 12.82801491,  6.82722321,\n",
       "       10.02038992, 10.6395241 ,  5.04073586, 10.26359848, 18.20618411,\n",
       "       16.30458618,  4.8162096 ,  7.93118453,  6.64947819,  5.97641396,\n",
       "        9.38087355, 11.68263557, 14.79547455, 10.60132009,  8.92014089])"
      ]
     },
     "execution_count": 23,
     "metadata": {},
     "output_type": "execute_result"
    }
   ],
   "source": [
    "y_pred['gradient_0']\n",
    "np.exp(y_pred['gradient_0'])"
   ]
  },
  {
   "attachments": {},
   "cell_type": "markdown",
   "metadata": {},
   "source": [
    "Após o ajuste do modelo, precisamos de:\n",
    "- IBS: predict_survival_function(x_test)\n",
    "- C-index: score(x_test, y_test)\n",
    "- AUC: predict(x_test)"
   ]
  }
 ],
 "metadata": {
  "kernelspec": {
   "display_name": "Python 3",
   "language": "python",
   "name": "python3"
  },
  "language_info": {
   "codemirror_mode": {
    "name": "ipython",
    "version": 3
   },
   "file_extension": ".py",
   "mimetype": "text/x-python",
   "name": "python",
   "nbconvert_exporter": "python",
   "pygments_lexer": "ipython3",
   "version": "3.10.0"
  },
  "orig_nbformat": 4,
  "vscode": {
   "interpreter": {
    "hash": "cf7605d5edc2c71d1f37355c715b5765144f97c04cf009b99109284b84507110"
   }
  }
 },
 "nbformat": 4,
 "nbformat_minor": 2
}
